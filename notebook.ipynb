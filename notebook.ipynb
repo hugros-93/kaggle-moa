{
 "cells": [
  {
   "cell_type": "markdown",
   "metadata": {
    "papermill": {
     "duration": 0.022011,
     "end_time": "2020-11-10T11:35:37.598482",
     "exception": false,
     "start_time": "2020-11-10T11:35:37.576471",
     "status": "completed"
    },
    "tags": []
   },
   "source": [
    "# Kaggle - Mechanisms of Action (MoA) Prediction"
   ]
  },
  {
   "cell_type": "code",
   "execution_count": null,
   "metadata": {
    "ExecuteTime": {
     "end_time": "2020-09-12T15:30:59.810505Z",
     "start_time": "2020-09-12T15:30:59.807498Z"
    },
    "execution": {
     "iopub.execute_input": "2020-11-10T11:35:37.649303Z",
     "iopub.status.busy": "2020-11-10T11:35:37.648550Z",
     "iopub.status.idle": "2020-11-10T11:35:40.980029Z",
     "shell.execute_reply": "2020-11-10T11:35:40.979139Z"
    },
    "papermill": {
     "duration": 3.360532,
     "end_time": "2020-11-10T11:35:40.980187",
     "exception": false,
     "start_time": "2020-11-10T11:35:37.619655",
     "status": "completed"
    },
    "tags": []
   },
   "outputs": [],
   "source": [
    "import pandas as pd\n",
    "import numpy as np\n",
    "\n",
    "from sklearn.utils import shuffle\n",
    "from sklearn.metrics import log_loss\n",
    "from sklearn.feature_selection import SelectKBest, f_classif\n",
    "from sklearn.decomposition import PCA\n",
    "from sklearn.preprocessing import QuantileTransformer\n",
    "\n",
    "import plotly.graph_objects as go\n",
    "import plotly.express as px\n",
    "\n",
    "from IPython.display import clear_output\n",
    "from iterstrat.ml_stratifiers import MultilabelStratifiedKFold\n",
    "\n",
    "random_seed = 7"
   ]
  },
  {
   "cell_type": "code",
   "execution_count": null,
   "metadata": {
    "ExecuteTime": {
     "end_time": "2020-09-12T15:08:19.045567Z",
     "start_time": "2020-09-12T15:08:19.039047Z"
    },
    "execution": {
     "iopub.execute_input": "2020-11-10T11:35:41.053228Z",
     "iopub.status.busy": "2020-11-10T11:35:41.052299Z",
     "iopub.status.idle": "2020-11-10T11:35:41.056383Z",
     "shell.execute_reply": "2020-11-10T11:35:41.055651Z"
    },
    "papermill": {
     "duration": 0.05259,
     "end_time": "2020-11-10T11:35:41.056506",
     "exception": false,
     "start_time": "2020-11-10T11:35:41.003916",
     "status": "completed"
    },
    "tags": []
   },
   "outputs": [],
   "source": [
    "def preprocess_features(df, filter_ctl = False):\n",
    "\n",
    "    # split\n",
    "    df_A = df.loc[:, [c for c in df.columns if c in ['cp_type', 'cp_dose', 'cp_time']]]\n",
    "    df_g = df.loc[:, [c for c in df.columns if 'g-' in c]]\n",
    "    df_c = df.loc[:, [c for c in df.columns if 'c-' in c]]\n",
    "\n",
    "    # cp_type\n",
    "    if filter_ctl:\n",
    "        df_A = df_A.loc[df_A['cp_type']!='ctl_vehicle', :]\n",
    "        del df_A['cp_type']\n",
    "    else:\n",
    "        df_A['cp_type'] = df_A['cp_type'].replace('trt_cp', 0)\n",
    "        df_A['cp_type'] = df_A['cp_type'].replace('ctl_vehicle', 1)\n",
    "\n",
    "    # cp_dose\n",
    "    df_A['cp_dose'] = df_A['cp_dose'].replace('D1', 0)\n",
    "    df_A['cp_dose'] = df_A['cp_dose'].replace('D2', 1)\n",
    "\n",
    "    # cp_time\n",
    "    df_A = pd.get_dummies(df_A, columns = ['cp_time'])\n",
    "\n",
    "    # g- and c- : rescale using QuantileTransformer\n",
    "    transformer = QuantileTransformer(n_quantiles=100, random_state=random_seed, output_distribution='normal')\n",
    "    df_g = pd.DataFrame(transformer.fit_transform(df_g), index=df_g.index, columns=df_g.columns)\n",
    "    df_c = pd.DataFrame(transformer.fit_transform(df_c), index=df_c.index, columns=df_c.columns)\n",
    "    \n",
    "    list_df = [df_A, df_g, df_c]\n",
    "       \n",
    "\n",
    "    return pd.concat(list_df, axis = 1).dropna()\n",
    "\n",
    "def kaggle_replace(p):\n",
    "    return np.max((np.min((p,1-10**(-15))),10**-15))\n",
    "\n",
    "def kaggle_score(Y_true, Y_pred):\n",
    "    score = []\n",
    "    \n",
    "    Y_true = Y_true.sort_index().sort_index(axis = 1)\n",
    "    Y_pred = Y_pred.sort_index().sort_index(axis = 1)\n",
    "    for target in Y_true.columns:\n",
    "        y_pred = Y_pred.loc[:, target]\n",
    "        \n",
    "        score.append(log_loss(Y_true.loc[:, target], y_pred, labels = [0,1]))\n",
    "    return np.mean(score)"
   ]
  },
  {
   "cell_type": "markdown",
   "metadata": {
    "papermill": {
     "duration": 0.023563,
     "end_time": "2020-11-10T11:35:41.101351",
     "exception": false,
     "start_time": "2020-11-10T11:35:41.077788",
     "status": "completed"
    },
    "tags": []
   },
   "source": [
    "## Load data"
   ]
  },
  {
   "cell_type": "code",
   "execution_count": null,
   "metadata": {
    "ExecuteTime": {
     "end_time": "2020-09-12T16:09:51.288859Z",
     "start_time": "2020-09-12T16:09:51.286355Z"
    },
    "execution": {
     "iopub.execute_input": "2020-11-10T11:35:41.156769Z",
     "iopub.status.busy": "2020-11-10T11:35:41.155915Z",
     "iopub.status.idle": "2020-11-10T11:35:41.159345Z",
     "shell.execute_reply": "2020-11-10T11:35:41.158766Z"
    },
    "papermill": {
     "duration": 0.032824,
     "end_time": "2020-11-10T11:35:41.159474",
     "exception": false,
     "start_time": "2020-11-10T11:35:41.126650",
     "status": "completed"
    },
    "tags": []
   },
   "outputs": [],
   "source": [
    "data_folder = 'lish-moa'"
   ]
  },
  {
   "cell_type": "code",
   "execution_count": null,
   "metadata": {
    "ExecuteTime": {
     "end_time": "2020-09-12T16:09:54.84722Z",
     "start_time": "2020-09-12T16:09:51.488129Z"
    },
    "execution": {
     "iopub.execute_input": "2020-11-10T11:35:41.211551Z",
     "iopub.status.busy": "2020-11-10T11:35:41.210761Z",
     "iopub.status.idle": "2020-11-10T11:35:48.971419Z",
     "shell.execute_reply": "2020-11-10T11:35:48.970619Z"
    },
    "papermill": {
     "duration": 7.79078,
     "end_time": "2020-11-10T11:35:48.971567",
     "exception": false,
     "start_time": "2020-11-10T11:35:41.180787",
     "status": "completed"
    },
    "tags": []
   },
   "outputs": [],
   "source": [
    "file_name = f\"{data_folder}/train_features.csv\"\n",
    "train_features = pd.read_csv(file_name)\n",
    "\n",
    "file_name = f\"{data_folder}/test_features.csv\"\n",
    "test_features = pd.read_csv(file_name)\n",
    "\n",
    "file_name = f\"{data_folder}/train_targets_scored.csv\"\n",
    "train_targets_scored = pd.read_csv(file_name)\n",
    "\n",
    "file_name = f\"{data_folder}/train_targets_nonscored.csv\"\n",
    "train_targets_nonscored = pd.read_csv(file_name)\n",
    "\n",
    "file_name = f\"{data_folder}/sample_submission.csv\"\n",
    "sample_submission = pd.read_csv(file_name)\n",
    "\n",
    "# set id\n",
    "train_targets_scored = train_targets_scored.set_index('sig_id')\n",
    "train_features = train_features.set_index('sig_id')\n",
    "test_features = test_features.set_index('sig_id')"
   ]
  },
  {
   "cell_type": "code",
   "execution_count": null,
   "metadata": {
    "execution": {
     "iopub.execute_input": "2020-11-10T11:35:49.077077Z",
     "iopub.status.busy": "2020-11-10T11:35:49.076137Z",
     "iopub.status.idle": "2020-11-10T11:35:59.252502Z",
     "shell.execute_reply": "2020-11-10T11:35:59.251765Z"
    },
    "papermill": {
     "duration": 10.259297,
     "end_time": "2020-11-10T11:35:59.252646",
     "exception": false,
     "start_time": "2020-11-10T11:35:48.993349",
     "status": "completed"
    },
    "tags": []
   },
   "outputs": [],
   "source": [
    "train_features = preprocess_features(train_features, filter_ctl=True)\n",
    "test_features = preprocess_features(test_features, filter_ctl=True)\n",
    "\n",
    "train_targets_scored = train_targets_scored.loc[train_features.index, :]"
   ]
  },
  {
   "cell_type": "markdown",
   "metadata": {
    "papermill": {
     "duration": 0.020992,
     "end_time": "2020-11-10T11:35:59.295015",
     "exception": false,
     "start_time": "2020-11-10T11:35:59.274023",
     "status": "completed"
    },
    "tags": []
   },
   "source": [
    "### PCA"
   ]
  },
  {
   "cell_type": "code",
   "execution_count": null,
   "metadata": {
    "execution": {
     "iopub.execute_input": "2020-11-10T11:35:59.351365Z",
     "iopub.status.busy": "2020-11-10T11:35:59.350604Z",
     "iopub.status.idle": "2020-11-10T11:36:01.301366Z",
     "shell.execute_reply": "2020-11-10T11:36:01.301952Z"
    },
    "papermill": {
     "duration": 1.984766,
     "end_time": "2020-11-10T11:36:01.302123",
     "exception": false,
     "start_time": "2020-11-10T11:35:59.317357",
     "status": "completed"
    },
    "tags": []
   },
   "outputs": [],
   "source": [
    "latent_dim = 50\n",
    "\n",
    "X = pd.concat([train_features, test_features], axis = 0)\n",
    "pca_features = PCA(latent_dim).fit_transform(X)\n",
    "\n",
    "pca_features = pd.DataFrame(pca_features, index = X.index, columns=[f'pca_{i}' for i in range(pca_features.shape[1])])\n",
    "\n",
    "transformer = QuantileTransformer(n_quantiles=100, random_state=random_seed, output_distribution='normal')\n",
    "pca_features = pd.DataFrame(transformer.fit_transform(pca_features), index=pca_features.index, columns=pca_features.columns)\n",
    "\n",
    "pca_train_features = pca_features.loc[train_features.index, :]\n",
    "pca_test_features = pca_features.loc[test_features.index, :]"
   ]
  },
  {
   "cell_type": "code",
   "execution_count": null,
   "metadata": {
    "execution": {
     "iopub.execute_input": "2020-11-10T11:36:01.356790Z",
     "iopub.status.busy": "2020-11-10T11:36:01.355988Z",
     "iopub.status.idle": "2020-11-10T11:36:01.436254Z",
     "shell.execute_reply": "2020-11-10T11:36:01.435449Z"
    },
    "papermill": {
     "duration": 0.112415,
     "end_time": "2020-11-10T11:36:01.436388",
     "exception": false,
     "start_time": "2020-11-10T11:36:01.323973",
     "status": "completed"
    },
    "tags": []
   },
   "outputs": [],
   "source": [
    "train_features = pd.concat([train_features, pca_train_features], axis = 1)\n",
    "test_features = pd.concat([test_features, pca_test_features], axis = 1)"
   ]
  },
  {
   "cell_type": "markdown",
   "metadata": {
    "papermill": {
     "duration": 0.021539,
     "end_time": "2020-11-10T11:36:01.479866",
     "exception": false,
     "start_time": "2020-11-10T11:36:01.458327",
     "status": "completed"
    },
    "tags": []
   },
   "source": [
    "### Select K-best"
   ]
  },
  {
   "cell_type": "code",
   "execution_count": null,
   "metadata": {
    "execution": {
     "iopub.execute_input": "2020-11-10T11:36:01.570123Z",
     "iopub.status.busy": "2020-11-10T11:36:01.565063Z",
     "iopub.status.idle": "2020-11-10T11:37:01.661150Z",
     "shell.execute_reply": "2020-11-10T11:37:01.660054Z"
    },
    "papermill": {
     "duration": 60.159726,
     "end_time": "2020-11-10T11:37:01.661325",
     "exception": false,
     "start_time": "2020-11-10T11:36:01.501599",
     "status": "completed"
    },
    "tags": []
   },
   "outputs": [],
   "source": [
    "k_best = int(0.9*train_features.shape[1])\n",
    "\n",
    "df_k_best = pd.DataFrame(columns=train_features.columns)\n",
    "\n",
    "for i,c in enumerate(train_targets_scored.columns):\n",
    "    print(f\"{i}/{len(train_targets_scored.columns)} : {c}\", end = '\\r')\n",
    "    X_new = SelectKBest(f_classif, k=k_best).fit(train_features, train_targets_scored[c])\n",
    "    df_k_best.loc[c, X_new.get_support(indices=False)] = 1\n",
    "    \n",
    "k_best_features =  df_k_best.fillna(0).sum().sort_values(ascending = False).index[0:k_best]"
   ]
  },
  {
   "cell_type": "markdown",
   "metadata": {
    "papermill": {
     "duration": 0.115799,
     "end_time": "2020-11-10T11:37:01.887821",
     "exception": false,
     "start_time": "2020-11-10T11:37:01.772022",
     "status": "completed"
    },
    "tags": []
   },
   "source": [
    "## train/val split"
   ]
  },
  {
   "cell_type": "code",
   "execution_count": null,
   "metadata": {
    "ExecuteTime": {
     "end_time": "2020-09-12T15:23:47.700782Z",
     "start_time": "2020-09-12T15:23:47.545474Z"
    },
    "execution": {
     "iopub.execute_input": "2020-11-10T11:37:02.120444Z",
     "iopub.status.busy": "2020-11-10T11:37:02.119494Z",
     "iopub.status.idle": "2020-11-10T11:37:02.242021Z",
     "shell.execute_reply": "2020-11-10T11:37:02.241238Z"
    },
    "papermill": {
     "duration": 0.23624,
     "end_time": "2020-11-10T11:37:02.242147",
     "exception": false,
     "start_time": "2020-11-10T11:37:02.005907",
     "status": "completed"
    },
    "tags": []
   },
   "outputs": [],
   "source": [
    "train_features, train_targets_scored = shuffle(train_features, train_targets_scored, random_state=random_seed)"
   ]
  },
  {
   "cell_type": "code",
   "execution_count": null,
   "metadata": {
    "execution": {
     "iopub.execute_input": "2020-11-10T11:37:02.455822Z",
     "iopub.status.busy": "2020-11-10T11:37:02.455001Z",
     "iopub.status.idle": "2020-11-10T11:37:02.477865Z",
     "shell.execute_reply": "2020-11-10T11:37:02.477166Z"
    },
    "papermill": {
     "duration": 0.132014,
     "end_time": "2020-11-10T11:37:02.477994",
     "exception": false,
     "start_time": "2020-11-10T11:37:02.345980",
     "status": "completed"
    },
    "tags": []
   },
   "outputs": [],
   "source": [
    "X_train = train_features.to_numpy()\n",
    "Y_train = train_targets_scored.to_numpy()\n",
    "\n",
    "X_test = test_features.to_numpy()"
   ]
  },
  {
   "cell_type": "markdown",
   "metadata": {
    "papermill": {
     "duration": 0.103454,
     "end_time": "2020-11-10T11:37:02.685422",
     "exception": false,
     "start_time": "2020-11-10T11:37:02.581968",
     "status": "completed"
    },
    "tags": []
   },
   "source": [
    "### Train"
   ]
  },
  {
   "cell_type": "code",
   "execution_count": null,
   "metadata": {
    "ExecuteTime": {
     "end_time": "2020-09-12T15:31:32.454509Z",
     "start_time": "2020-09-12T15:31:32.450997Z"
    },
    "execution": {
     "iopub.execute_input": "2020-11-10T11:37:02.901535Z",
     "iopub.status.busy": "2020-11-10T11:37:02.900359Z",
     "iopub.status.idle": "2020-11-10T11:37:08.907192Z",
     "shell.execute_reply": "2020-11-10T11:37:08.907929Z"
    },
    "papermill": {
     "duration": 6.119457,
     "end_time": "2020-11-10T11:37:08.908132",
     "exception": false,
     "start_time": "2020-11-10T11:37:02.788675",
     "status": "completed"
    },
    "tags": []
   },
   "outputs": [],
   "source": [
    "import tensorflow as tf\n",
    "from tensorflow.keras.models import Sequential, load_model\n",
    "from tensorflow.keras.layers import Dense, Activation, Dropout, BatchNormalization, InputLayer\n",
    "from tensorflow.keras.regularizers import l1_l2\n",
    "from tensorflow.keras.optimizers import Adam, SGD\n",
    "from tensorflow.keras.callbacks import EarlyStopping, ModelCheckpoint, ReduceLROnPlateau\n",
    "from tensorflow.keras.losses import categorical_crossentropy, BinaryCrossentropy\n",
    "\n",
    "from tensorflow_addons.optimizers import Lookahead"
   ]
  },
  {
   "cell_type": "code",
   "execution_count": null,
   "metadata": {
    "ExecuteTime": {
     "end_time": "2020-09-12T15:31:32.627911Z",
     "start_time": "2020-09-12T15:31:32.623898Z"
    },
    "execution": {
     "iopub.execute_input": "2020-11-10T11:37:09.127888Z",
     "iopub.status.busy": "2020-11-10T11:37:09.126810Z",
     "iopub.status.idle": "2020-11-10T11:37:09.130348Z",
     "shell.execute_reply": "2020-11-10T11:37:09.129706Z"
    },
    "papermill": {
     "duration": 0.11829,
     "end_time": "2020-11-10T11:37:09.130476",
     "exception": false,
     "start_time": "2020-11-10T11:37:09.012186",
     "status": "completed"
    },
    "tags": []
   },
   "outputs": [],
   "source": [
    "input_dim = X_train.shape[1]\n",
    "output_dim = Y_train.shape[1]"
   ]
  },
  {
   "cell_type": "code",
   "execution_count": null,
   "metadata": {
    "execution": {
     "iopub.execute_input": "2020-11-10T11:37:09.349213Z",
     "iopub.status.busy": "2020-11-10T11:37:09.348366Z",
     "iopub.status.idle": "2020-11-10T11:37:09.359711Z",
     "shell.execute_reply": "2020-11-10T11:37:09.358865Z"
    },
    "papermill": {
     "duration": 0.126132,
     "end_time": "2020-11-10T11:37:09.359845",
     "exception": false,
     "start_time": "2020-11-10T11:37:09.233713",
     "status": "completed"
    },
    "tags": []
   },
   "outputs": [],
   "source": [
    "# Model construction\n",
    "def get_model(size_layer = 64, dropout = 0.35,\n",
    "              loss = BinaryCrossentropy, opt = Adam(10e-4)):\n",
    "    \n",
    "    model = Sequential([\n",
    "        InputLayer(input_dim),\n",
    "        Dense(size_layer),\n",
    "        Activation('relu'),\n",
    "        BatchNormalization(),\n",
    "        Dropout(dropout),\n",
    "        Dense(size_layer),\n",
    "        Activation('relu'),\n",
    "        BatchNormalization(),\n",
    "        Dropout(dropout),\n",
    "        Dense(size_layer),\n",
    "        Activation('relu'),\n",
    "        BatchNormalization(),\n",
    "        Dense(output_dim),\n",
    "        Activation('sigmoid')\n",
    "    ])\n",
    "\n",
    "    model.compile(optimizer=opt,\n",
    "                  loss=loss)\n",
    "    \n",
    "    return model"
   ]
  },
  {
   "cell_type": "code",
   "execution_count": null,
   "metadata": {
    "execution": {
     "iopub.execute_input": "2020-11-10T11:37:09.598594Z",
     "iopub.status.busy": "2020-11-10T11:37:09.595307Z",
     "iopub.status.idle": "2020-11-10T18:12:51.750642Z",
     "shell.execute_reply": "2020-11-10T18:12:51.749909Z"
    },
    "papermill": {
     "duration": 23742.286868,
     "end_time": "2020-11-10T18:12:51.750807",
     "exception": false,
     "start_time": "2020-11-10T11:37:09.463939",
     "status": "completed"
    },
    "tags": []
   },
   "outputs": [],
   "source": [
    "tf.random.set_seed(random_seed)\n",
    "\n",
    "n_seed = 10\n",
    "n_splits = 10\n",
    "\n",
    "results = train_targets_scored.copy()\n",
    "submission = sample_submission.set_index('sig_id').loc[test_features.index, :]\n",
    "\n",
    "results.loc[:,:] = 0.0\n",
    "submission.loc[:,:] = 0.0\n",
    "\n",
    "epochs = 5000\n",
    "batch_size = 16\n",
    "patience = 10\n",
    "size_layer = 128\n",
    "dropout = 0.5\n",
    "loss = BinaryCrossentropy(label_smoothing=0.001)\n",
    "\n",
    "for seed in range(n_seed):\n",
    "    print(f'\\n### Seed {seed} ###')\n",
    "    for n, (train_, test_) in enumerate(MultilabelStratifiedKFold(n_splits=n_splits, \n",
    "                                                           random_state=seed, \n",
    "                                                           shuffle=True).split(train_features, \n",
    "                                                                               train_targets_scored)):\n",
    "        \n",
    "        print(f'\\nFold {n}')\n",
    "        checkpoint_path = f'Seed:{seed}_Fold:{n}.hdf5'\n",
    "        \n",
    "        opt = Lookahead(Adam(1e-3))\n",
    "        model = get_model(size_layer, dropout, loss, opt)\n",
    "        \n",
    "        es = EarlyStopping(monitor='val_loss', mode='min', verbose=1, patience=patience)\n",
    "        mc = ModelCheckpoint(checkpoint_path, monitor='val_loss', mode='min', verbose=1, save_best_only=True)\n",
    "        reduce_lr = ReduceLROnPlateau(monitor='val_loss', factor=0.5, patience=3, min_lr=1e-8)\n",
    "        model.fit(X_train[train_], Y_train[train_], \n",
    "                  validation_data = (X_train[test_], Y_train[test_]), \n",
    "                  epochs=epochs, \n",
    "                  batch_size=batch_size, \n",
    "                  verbose=0,\n",
    "                  callbacks=[es, mc, reduce_lr])\n",
    "\n",
    "        model.load_weights(checkpoint_path)\n",
    "        \n",
    "        val_predict = model.predict(X_train[test_])\n",
    "        test_predict = model.predict(X_test)\n",
    "\n",
    "        results.iloc[test_, :] += val_predict\n",
    "        submission += test_predict\n",
    "        \n",
    "   \n",
    "results /= n_seed\n",
    "submission /= n_splits * n_seed"
   ]
  },
  {
   "cell_type": "markdown",
   "metadata": {
    "papermill": {
     "duration": 1.916611,
     "end_time": "2020-11-10T18:12:55.631775",
     "exception": false,
     "start_time": "2020-11-10T18:12:53.715164",
     "status": "completed"
    },
    "tags": []
   },
   "source": [
    "## Test and Val scores"
   ]
  },
  {
   "cell_type": "code",
   "execution_count": null,
   "metadata": {
    "execution": {
     "iopub.execute_input": "2020-11-10T18:12:59.670719Z",
     "iopub.status.busy": "2020-11-10T18:12:59.637993Z",
     "iopub.status.idle": "2020-11-10T18:13:00.696003Z",
     "shell.execute_reply": "2020-11-10T18:13:00.696660Z"
    },
    "papermill": {
     "duration": 3.026209,
     "end_time": "2020-11-10T18:13:00.696821",
     "exception": false,
     "start_time": "2020-11-10T18:12:57.670612",
     "status": "completed"
    },
    "tags": []
   },
   "outputs": [],
   "source": [
    "# Validation\n",
    "score_val = kaggle_score(train_targets_scored, results)\n",
    "\n",
    "print(f\"Validation score : {score_val}\")"
   ]
  },
  {
   "cell_type": "markdown",
   "metadata": {
    "papermill": {
     "duration": 1.906985,
     "end_time": "2020-11-10T18:13:04.512842",
     "exception": false,
     "start_time": "2020-11-10T18:13:02.605857",
     "status": "completed"
    },
    "tags": []
   },
   "source": [
    "## Predict"
   ]
  },
  {
   "cell_type": "code",
   "execution_count": null,
   "metadata": {
    "execution": {
     "iopub.execute_input": "2020-11-10T18:13:08.337279Z",
     "iopub.status.busy": "2020-11-10T18:13:08.335326Z",
     "iopub.status.idle": "2020-11-10T18:13:08.358502Z",
     "shell.execute_reply": "2020-11-10T18:13:08.357893Z"
    },
    "papermill": {
     "duration": 1.947759,
     "end_time": "2020-11-10T18:13:08.358651",
     "exception": false,
     "start_time": "2020-11-10T18:13:06.410892",
     "status": "completed"
    },
    "tags": []
   },
   "outputs": [],
   "source": [
    "# Test \n",
    "Y_test_pred = submission\n",
    "\n",
    "Y_test_pred_complete = pd.DataFrame(0, index = [i for i in sample_submission['sig_id'] if i not in Y_test_pred.index], columns = Y_test_pred.columns)\n",
    "Y_test_pred = pd.concat([Y_test_pred, Y_test_pred_complete], axis = 0)\n",
    "\n",
    "Y_test_pred = Y_test_pred.sort_index().reset_index().rename(columns = {'index' : 'sig_id'}).loc[:, sample_submission.columns]"
   ]
  },
  {
   "cell_type": "code",
   "execution_count": null,
   "metadata": {
    "execution": {
     "iopub.execute_input": "2020-11-10T18:13:12.251830Z",
     "iopub.status.busy": "2020-11-10T18:13:12.250861Z",
     "iopub.status.idle": "2020-11-10T18:13:14.815038Z",
     "shell.execute_reply": "2020-11-10T18:13:14.814341Z"
    },
    "papermill": {
     "duration": 4.49816,
     "end_time": "2020-11-10T18:13:14.815196",
     "exception": false,
     "start_time": "2020-11-10T18:13:10.317036",
     "status": "completed"
    },
    "tags": []
   },
   "outputs": [],
   "source": [
    "# Export\n",
    "file_name = \"submission.csv\"\n",
    "Y_test_pred.to_csv(file_name, sep = ',', index = False)"
   ]
  },
  {
   "cell_type": "code",
   "execution_count": null,
   "metadata": {
    "papermill": {
     "duration": 1.948458,
     "end_time": "2020-11-10T18:13:18.703486",
     "exception": false,
     "start_time": "2020-11-10T18:13:16.755028",
     "status": "completed"
    },
    "tags": []
   },
   "outputs": [],
   "source": []
  },
  {
   "cell_type": "code",
   "execution_count": null,
   "metadata": {
    "papermill": {
     "duration": 2.020027,
     "end_time": "2020-11-10T18:13:22.735220",
     "exception": false,
     "start_time": "2020-11-10T18:13:20.715193",
     "status": "completed"
    },
    "tags": []
   },
   "outputs": [],
   "source": []
  },
  {
   "cell_type": "code",
   "execution_count": null,
   "metadata": {
    "papermill": {
     "duration": 1.911069,
     "end_time": "2020-11-10T18:13:26.645248",
     "exception": false,
     "start_time": "2020-11-10T18:13:24.734179",
     "status": "completed"
    },
    "tags": []
   },
   "outputs": [],
   "source": []
  }
 ],
 "metadata": {
  "kernelspec": {
   "display_name": "Python 3",
   "language": "python",
   "name": "python3"
  },
  "language_info": {
   "codemirror_mode": {
    "name": "ipython",
    "version": 3
   },
   "file_extension": ".py",
   "mimetype": "text/x-python",
   "name": "python",
   "nbconvert_exporter": "python",
   "pygments_lexer": "ipython3",
   "version": "3.7.9-final"
  },
  "papermill": {
   "duration": 23876.109973,
   "end_time": "2020-11-10T18:13:28.661211",
   "environment_variables": {},
   "exception": null,
   "input_path": "__notebook__.ipynb",
   "output_path": "__notebook__.ipynb",
   "parameters": {},
   "start_time": "2020-11-10T11:35:32.551238",
   "version": "2.1.0"
  }
 },
 "nbformat": 4,
 "nbformat_minor": 4
}